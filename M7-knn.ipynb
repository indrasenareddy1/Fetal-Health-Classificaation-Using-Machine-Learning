{
 "cells": [
  {
   "cell_type": "markdown",
   "id": "3af9fd8c",
   "metadata": {},
   "source": [
    "# Implementing knearest neighbours algorithms"
   ]
  },
  {
   "cell_type": "code",
   "execution_count": 1,
   "id": "7fa44e39",
   "metadata": {},
   "outputs": [],
   "source": [
    "# Importing the libraries\n",
    "\n",
    "import pandas as pd\n",
    "import numpy as np\n",
    "import matplotlib.pyplot as plt"
   ]
  },
  {
   "cell_type": "code",
   "execution_count": 2,
   "id": "c5f3de6d",
   "metadata": {},
   "outputs": [],
   "source": [
    "# ingnoring warning\n",
    "\n",
    "import warnings\n",
    "warnings.filterwarnings('ignore')"
   ]
  },
  {
   "cell_type": "code",
   "execution_count": 3,
   "id": "7498aa52",
   "metadata": {},
   "outputs": [
    {
     "data": {
      "text/html": [
       "<div>\n",
       "<style scoped>\n",
       "    .dataframe tbody tr th:only-of-type {\n",
       "        vertical-align: middle;\n",
       "    }\n",
       "\n",
       "    .dataframe tbody tr th {\n",
       "        vertical-align: top;\n",
       "    }\n",
       "\n",
       "    .dataframe thead th {\n",
       "        text-align: right;\n",
       "    }\n",
       "</style>\n",
       "<table border=\"1\" class=\"dataframe\">\n",
       "  <thead>\n",
       "    <tr style=\"text-align: right;\">\n",
       "      <th></th>\n",
       "      <th>FileName</th>\n",
       "      <th>Date</th>\n",
       "      <th>SegFile</th>\n",
       "      <th>b</th>\n",
       "      <th>e</th>\n",
       "      <th>LBE</th>\n",
       "      <th>LB</th>\n",
       "      <th>AC</th>\n",
       "      <th>FM</th>\n",
       "      <th>UC</th>\n",
       "      <th>...</th>\n",
       "      <th>C</th>\n",
       "      <th>D</th>\n",
       "      <th>E</th>\n",
       "      <th>AD</th>\n",
       "      <th>DE</th>\n",
       "      <th>LD</th>\n",
       "      <th>FS</th>\n",
       "      <th>SUSP</th>\n",
       "      <th>CLASS</th>\n",
       "      <th>NSP</th>\n",
       "    </tr>\n",
       "  </thead>\n",
       "  <tbody>\n",
       "    <tr>\n",
       "      <th>0</th>\n",
       "      <td>Variab10.txt</td>\n",
       "      <td>12/1/1996</td>\n",
       "      <td>CTG0001.txt</td>\n",
       "      <td>240.0</td>\n",
       "      <td>357.0</td>\n",
       "      <td>120.0</td>\n",
       "      <td>120.0</td>\n",
       "      <td>0.0</td>\n",
       "      <td>0.0</td>\n",
       "      <td>0.0</td>\n",
       "      <td>...</td>\n",
       "      <td>0.0</td>\n",
       "      <td>0.0</td>\n",
       "      <td>0.0</td>\n",
       "      <td>0.0</td>\n",
       "      <td>0.0</td>\n",
       "      <td>0.0</td>\n",
       "      <td>1.0</td>\n",
       "      <td>0.0</td>\n",
       "      <td>9.0</td>\n",
       "      <td>2.0</td>\n",
       "    </tr>\n",
       "    <tr>\n",
       "      <th>1</th>\n",
       "      <td>Fmcs_1.txt</td>\n",
       "      <td>5/3/1996</td>\n",
       "      <td>CTG0002.txt</td>\n",
       "      <td>5.0</td>\n",
       "      <td>632.0</td>\n",
       "      <td>132.0</td>\n",
       "      <td>132.0</td>\n",
       "      <td>4.0</td>\n",
       "      <td>0.0</td>\n",
       "      <td>4.0</td>\n",
       "      <td>...</td>\n",
       "      <td>0.0</td>\n",
       "      <td>0.0</td>\n",
       "      <td>0.0</td>\n",
       "      <td>1.0</td>\n",
       "      <td>0.0</td>\n",
       "      <td>0.0</td>\n",
       "      <td>0.0</td>\n",
       "      <td>0.0</td>\n",
       "      <td>6.0</td>\n",
       "      <td>1.0</td>\n",
       "    </tr>\n",
       "    <tr>\n",
       "      <th>2</th>\n",
       "      <td>Fmcs_1.txt</td>\n",
       "      <td>5/3/1996</td>\n",
       "      <td>CTG0003.txt</td>\n",
       "      <td>177.0</td>\n",
       "      <td>779.0</td>\n",
       "      <td>133.0</td>\n",
       "      <td>133.0</td>\n",
       "      <td>2.0</td>\n",
       "      <td>0.0</td>\n",
       "      <td>5.0</td>\n",
       "      <td>...</td>\n",
       "      <td>0.0</td>\n",
       "      <td>0.0</td>\n",
       "      <td>0.0</td>\n",
       "      <td>1.0</td>\n",
       "      <td>0.0</td>\n",
       "      <td>0.0</td>\n",
       "      <td>0.0</td>\n",
       "      <td>0.0</td>\n",
       "      <td>6.0</td>\n",
       "      <td>1.0</td>\n",
       "    </tr>\n",
       "    <tr>\n",
       "      <th>3</th>\n",
       "      <td>Fmcs_1.txt</td>\n",
       "      <td>5/3/1996</td>\n",
       "      <td>CTG0004.txt</td>\n",
       "      <td>411.0</td>\n",
       "      <td>1192.0</td>\n",
       "      <td>134.0</td>\n",
       "      <td>134.0</td>\n",
       "      <td>2.0</td>\n",
       "      <td>0.0</td>\n",
       "      <td>6.0</td>\n",
       "      <td>...</td>\n",
       "      <td>0.0</td>\n",
       "      <td>0.0</td>\n",
       "      <td>0.0</td>\n",
       "      <td>1.0</td>\n",
       "      <td>0.0</td>\n",
       "      <td>0.0</td>\n",
       "      <td>0.0</td>\n",
       "      <td>0.0</td>\n",
       "      <td>6.0</td>\n",
       "      <td>1.0</td>\n",
       "    </tr>\n",
       "    <tr>\n",
       "      <th>4</th>\n",
       "      <td>Fmcs_1.txt</td>\n",
       "      <td>5/3/1996</td>\n",
       "      <td>CTG0005.txt</td>\n",
       "      <td>533.0</td>\n",
       "      <td>1147.0</td>\n",
       "      <td>132.0</td>\n",
       "      <td>132.0</td>\n",
       "      <td>4.0</td>\n",
       "      <td>0.0</td>\n",
       "      <td>5.0</td>\n",
       "      <td>...</td>\n",
       "      <td>0.0</td>\n",
       "      <td>0.0</td>\n",
       "      <td>0.0</td>\n",
       "      <td>0.0</td>\n",
       "      <td>0.0</td>\n",
       "      <td>0.0</td>\n",
       "      <td>0.0</td>\n",
       "      <td>0.0</td>\n",
       "      <td>2.0</td>\n",
       "      <td>1.0</td>\n",
       "    </tr>\n",
       "  </tbody>\n",
       "</table>\n",
       "<p>5 rows × 40 columns</p>\n",
       "</div>"
      ],
      "text/plain": [
       "       FileName       Date      SegFile      b       e    LBE     LB   AC  \\\n",
       "0  Variab10.txt  12/1/1996  CTG0001.txt  240.0   357.0  120.0  120.0  0.0   \n",
       "1    Fmcs_1.txt   5/3/1996  CTG0002.txt    5.0   632.0  132.0  132.0  4.0   \n",
       "2    Fmcs_1.txt   5/3/1996  CTG0003.txt  177.0   779.0  133.0  133.0  2.0   \n",
       "3    Fmcs_1.txt   5/3/1996  CTG0004.txt  411.0  1192.0  134.0  134.0  2.0   \n",
       "4    Fmcs_1.txt   5/3/1996  CTG0005.txt  533.0  1147.0  132.0  132.0  4.0   \n",
       "\n",
       "    FM   UC  ...    C    D    E   AD   DE   LD   FS  SUSP  CLASS  NSP  \n",
       "0  0.0  0.0  ...  0.0  0.0  0.0  0.0  0.0  0.0  1.0   0.0    9.0  2.0  \n",
       "1  0.0  4.0  ...  0.0  0.0  0.0  1.0  0.0  0.0  0.0   0.0    6.0  1.0  \n",
       "2  0.0  5.0  ...  0.0  0.0  0.0  1.0  0.0  0.0  0.0   0.0    6.0  1.0  \n",
       "3  0.0  6.0  ...  0.0  0.0  0.0  1.0  0.0  0.0  0.0   0.0    6.0  1.0  \n",
       "4  0.0  5.0  ...  0.0  0.0  0.0  0.0  0.0  0.0  0.0   0.0    2.0  1.0  \n",
       "\n",
       "[5 rows x 40 columns]"
      ]
     },
     "execution_count": 3,
     "metadata": {},
     "output_type": "execute_result"
    }
   ],
   "source": [
    "# Reading the dataset\n",
    "\n",
    "df=pd.read_csv('CTG.csv')\n",
    "df.head()"
   ]
  },
  {
   "cell_type": "code",
   "execution_count": 4,
   "id": "38e55911",
   "metadata": {},
   "outputs": [
    {
     "name": "stdout",
     "output_type": "stream",
     "text": [
      "Shape:  (2129, 40)\n"
     ]
    }
   ],
   "source": [
    "# Shape\n",
    "\n",
    "print('Shape: ',df.shape)\n"
   ]
  },
  {
   "cell_type": "code",
   "execution_count": 5,
   "id": "4680e32d",
   "metadata": {},
   "outputs": [],
   "source": [
    "# FUTURE ENGINEERING"
   ]
  },
  {
   "cell_type": "code",
   "execution_count": 6,
   "id": "5911059e",
   "metadata": {},
   "outputs": [
    {
     "data": {
      "text/plain": [
       "FileName    3\n",
       "Date        3\n",
       "SegFile     3\n",
       "b           3\n",
       "e           3\n",
       "LBE         3\n",
       "LB          3\n",
       "AC          3\n",
       "FM          2\n",
       "UC          2\n",
       "ASTV        2\n",
       "MSTV        2\n",
       "ALTV        2\n",
       "MLTV        2\n",
       "DL          1\n",
       "DS          1\n",
       "DP          1\n",
       "DR          1\n",
       "Width       3\n",
       "Min         3\n",
       "Max         3\n",
       "Nmax        3\n",
       "Nzeros      3\n",
       "Mode        3\n",
       "Mean        3\n",
       "Median      3\n",
       "Variance    3\n",
       "Tendency    3\n",
       "A           3\n",
       "B           3\n",
       "C           3\n",
       "D           3\n",
       "E           3\n",
       "AD          3\n",
       "DE          3\n",
       "LD          3\n",
       "FS          3\n",
       "SUSP        3\n",
       "CLASS       3\n",
       "NSP         3\n",
       "dtype: int64"
      ]
     },
     "execution_count": 6,
     "metadata": {},
     "output_type": "execute_result"
    }
   ],
   "source": [
    "# Checking removing null values\n",
    "\n",
    "df.isnull().sum()"
   ]
  },
  {
   "cell_type": "code",
   "execution_count": 7,
   "id": "870c4c72",
   "metadata": {},
   "outputs": [
    {
     "data": {
      "text/plain": [
       "FileName    0\n",
       "Date        0\n",
       "SegFile     0\n",
       "b           0\n",
       "e           0\n",
       "LBE         0\n",
       "LB          0\n",
       "AC          0\n",
       "FM          0\n",
       "UC          0\n",
       "ASTV        0\n",
       "MSTV        0\n",
       "ALTV        0\n",
       "MLTV        0\n",
       "DL          0\n",
       "DS          0\n",
       "DP          0\n",
       "DR          0\n",
       "Width       0\n",
       "Min         0\n",
       "Max         0\n",
       "Nmax        0\n",
       "Nzeros      0\n",
       "Mode        0\n",
       "Mean        0\n",
       "Median      0\n",
       "Variance    0\n",
       "Tendency    0\n",
       "A           0\n",
       "B           0\n",
       "C           0\n",
       "D           0\n",
       "E           0\n",
       "AD          0\n",
       "DE          0\n",
       "LD          0\n",
       "FS          0\n",
       "SUSP        0\n",
       "CLASS       0\n",
       "NSP         0\n",
       "dtype: int64"
      ]
     },
     "execution_count": 7,
     "metadata": {},
     "output_type": "execute_result"
    }
   ],
   "source": [
    "# Removing null values\n",
    "\n",
    "df.dropna(inplace=True)\n",
    "\n",
    "df.isnull().sum()"
   ]
  },
  {
   "cell_type": "code",
   "execution_count": 8,
   "id": "dc212f00",
   "metadata": {},
   "outputs": [
    {
     "name": "stdout",
     "output_type": "stream",
     "text": [
      "Shape:  (2126, 40)\n"
     ]
    }
   ],
   "source": [
    "# Shape after replacing missing values\n",
    "\n",
    "\n",
    "print('Shape: ',df.shape)"
   ]
  },
  {
   "cell_type": "code",
   "execution_count": 9,
   "id": "e4383504",
   "metadata": {},
   "outputs": [
    {
     "data": {
      "text/plain": [
       "0"
      ]
     },
     "execution_count": 9,
     "metadata": {},
     "output_type": "execute_result"
    }
   ],
   "source": [
    "# Checking duplicated values\n",
    "\n",
    "df.duplicated().sum()"
   ]
  },
  {
   "cell_type": "code",
   "execution_count": 10,
   "id": "a7c810f1",
   "metadata": {},
   "outputs": [],
   "source": [
    "## Removing unwanted text column\n",
    "\n",
    "df.drop(columns=['FileName','Date','SegFile'], inplace=True)"
   ]
  },
  {
   "cell_type": "code",
   "execution_count": 11,
   "id": "8f00a123",
   "metadata": {},
   "outputs": [
    {
     "name": "stdout",
     "output_type": "stream",
     "text": [
      "Shape:  (2126, 37)\n"
     ]
    }
   ],
   "source": [
    "# Shape after Droping columns\n",
    "\n",
    "\n",
    "print('Shape: ',df.shape)"
   ]
  },
  {
   "cell_type": "code",
   "execution_count": 12,
   "id": "4eaa5528",
   "metadata": {},
   "outputs": [
    {
     "name": "stdout",
     "output_type": "stream",
     "text": [
      "<class 'pandas.core.frame.DataFrame'>\n",
      "Int64Index: 2126 entries, 0 to 2125\n",
      "Data columns (total 37 columns):\n",
      " #   Column    Non-Null Count  Dtype  \n",
      "---  ------    --------------  -----  \n",
      " 0   b         2126 non-null   float64\n",
      " 1   e         2126 non-null   float64\n",
      " 2   LBE       2126 non-null   float64\n",
      " 3   LB        2126 non-null   float64\n",
      " 4   AC        2126 non-null   float64\n",
      " 5   FM        2126 non-null   float64\n",
      " 6   UC        2126 non-null   float64\n",
      " 7   ASTV      2126 non-null   float64\n",
      " 8   MSTV      2126 non-null   float64\n",
      " 9   ALTV      2126 non-null   float64\n",
      " 10  MLTV      2126 non-null   float64\n",
      " 11  DL        2126 non-null   float64\n",
      " 12  DS        2126 non-null   float64\n",
      " 13  DP        2126 non-null   float64\n",
      " 14  DR        2126 non-null   float64\n",
      " 15  Width     2126 non-null   float64\n",
      " 16  Min       2126 non-null   float64\n",
      " 17  Max       2126 non-null   float64\n",
      " 18  Nmax      2126 non-null   float64\n",
      " 19  Nzeros    2126 non-null   float64\n",
      " 20  Mode      2126 non-null   float64\n",
      " 21  Mean      2126 non-null   float64\n",
      " 22  Median    2126 non-null   float64\n",
      " 23  Variance  2126 non-null   float64\n",
      " 24  Tendency  2126 non-null   float64\n",
      " 25  A         2126 non-null   float64\n",
      " 26  B         2126 non-null   float64\n",
      " 27  C         2126 non-null   float64\n",
      " 28  D         2126 non-null   float64\n",
      " 29  E         2126 non-null   float64\n",
      " 30  AD        2126 non-null   float64\n",
      " 31  DE        2126 non-null   float64\n",
      " 32  LD        2126 non-null   float64\n",
      " 33  FS        2126 non-null   float64\n",
      " 34  SUSP      2126 non-null   float64\n",
      " 35  CLASS     2126 non-null   float64\n",
      " 36  NSP       2126 non-null   float64\n",
      "dtypes: float64(37)\n",
      "memory usage: 631.2 KB\n"
     ]
    }
   ],
   "source": [
    "# Checking dtype\n",
    "\n",
    "df.info()"
   ]
  },
  {
   "cell_type": "code",
   "execution_count": 13,
   "id": "0e55461f",
   "metadata": {},
   "outputs": [],
   "source": [
    "# Splitting the data into x and y ( input and output )\n",
    "\n",
    "X=df.drop(columns='NSP', axis=1)\n",
    "y=df.loc[:,'NSP']"
   ]
  },
  {
   "cell_type": "code",
   "execution_count": 14,
   "id": "fd6499b4",
   "metadata": {},
   "outputs": [
    {
     "name": "stdout",
     "output_type": "stream",
     "text": [
      "Shape of X:  (2126, 36)\n",
      "Shape of Y:  (2126,)\n"
     ]
    }
   ],
   "source": [
    "# Shape of X and Y\n",
    "\n",
    "\n",
    "print('Shape of X: ',X.shape)\n",
    "print('Shape of Y: ', y.shape)"
   ]
  },
  {
   "cell_type": "code",
   "execution_count": 15,
   "id": "afa4f2db",
   "metadata": {},
   "outputs": [
    {
     "data": {
      "text/html": [
       "<div>\n",
       "<style scoped>\n",
       "    .dataframe tbody tr th:only-of-type {\n",
       "        vertical-align: middle;\n",
       "    }\n",
       "\n",
       "    .dataframe tbody tr th {\n",
       "        vertical-align: top;\n",
       "    }\n",
       "\n",
       "    .dataframe thead th {\n",
       "        text-align: right;\n",
       "    }\n",
       "</style>\n",
       "<table border=\"1\" class=\"dataframe\">\n",
       "  <thead>\n",
       "    <tr style=\"text-align: right;\">\n",
       "      <th></th>\n",
       "      <th>b</th>\n",
       "      <th>e</th>\n",
       "      <th>LBE</th>\n",
       "      <th>LB</th>\n",
       "      <th>AC</th>\n",
       "      <th>FM</th>\n",
       "      <th>UC</th>\n",
       "      <th>ASTV</th>\n",
       "      <th>MSTV</th>\n",
       "      <th>ALTV</th>\n",
       "      <th>...</th>\n",
       "      <th>B</th>\n",
       "      <th>C</th>\n",
       "      <th>D</th>\n",
       "      <th>E</th>\n",
       "      <th>AD</th>\n",
       "      <th>DE</th>\n",
       "      <th>LD</th>\n",
       "      <th>FS</th>\n",
       "      <th>SUSP</th>\n",
       "      <th>CLASS</th>\n",
       "    </tr>\n",
       "  </thead>\n",
       "  <tbody>\n",
       "    <tr>\n",
       "      <th>0</th>\n",
       "      <td>240.0</td>\n",
       "      <td>357.0</td>\n",
       "      <td>120.0</td>\n",
       "      <td>120.0</td>\n",
       "      <td>0.0</td>\n",
       "      <td>0.0</td>\n",
       "      <td>0.0</td>\n",
       "      <td>73.0</td>\n",
       "      <td>0.5</td>\n",
       "      <td>43.0</td>\n",
       "      <td>...</td>\n",
       "      <td>0.0</td>\n",
       "      <td>0.0</td>\n",
       "      <td>0.0</td>\n",
       "      <td>0.0</td>\n",
       "      <td>0.0</td>\n",
       "      <td>0.0</td>\n",
       "      <td>0.0</td>\n",
       "      <td>1.0</td>\n",
       "      <td>0.0</td>\n",
       "      <td>9.0</td>\n",
       "    </tr>\n",
       "    <tr>\n",
       "      <th>1</th>\n",
       "      <td>5.0</td>\n",
       "      <td>632.0</td>\n",
       "      <td>132.0</td>\n",
       "      <td>132.0</td>\n",
       "      <td>4.0</td>\n",
       "      <td>0.0</td>\n",
       "      <td>4.0</td>\n",
       "      <td>17.0</td>\n",
       "      <td>2.1</td>\n",
       "      <td>0.0</td>\n",
       "      <td>...</td>\n",
       "      <td>0.0</td>\n",
       "      <td>0.0</td>\n",
       "      <td>0.0</td>\n",
       "      <td>0.0</td>\n",
       "      <td>1.0</td>\n",
       "      <td>0.0</td>\n",
       "      <td>0.0</td>\n",
       "      <td>0.0</td>\n",
       "      <td>0.0</td>\n",
       "      <td>6.0</td>\n",
       "    </tr>\n",
       "    <tr>\n",
       "      <th>2</th>\n",
       "      <td>177.0</td>\n",
       "      <td>779.0</td>\n",
       "      <td>133.0</td>\n",
       "      <td>133.0</td>\n",
       "      <td>2.0</td>\n",
       "      <td>0.0</td>\n",
       "      <td>5.0</td>\n",
       "      <td>16.0</td>\n",
       "      <td>2.1</td>\n",
       "      <td>0.0</td>\n",
       "      <td>...</td>\n",
       "      <td>0.0</td>\n",
       "      <td>0.0</td>\n",
       "      <td>0.0</td>\n",
       "      <td>0.0</td>\n",
       "      <td>1.0</td>\n",
       "      <td>0.0</td>\n",
       "      <td>0.0</td>\n",
       "      <td>0.0</td>\n",
       "      <td>0.0</td>\n",
       "      <td>6.0</td>\n",
       "    </tr>\n",
       "    <tr>\n",
       "      <th>3</th>\n",
       "      <td>411.0</td>\n",
       "      <td>1192.0</td>\n",
       "      <td>134.0</td>\n",
       "      <td>134.0</td>\n",
       "      <td>2.0</td>\n",
       "      <td>0.0</td>\n",
       "      <td>6.0</td>\n",
       "      <td>16.0</td>\n",
       "      <td>2.4</td>\n",
       "      <td>0.0</td>\n",
       "      <td>...</td>\n",
       "      <td>0.0</td>\n",
       "      <td>0.0</td>\n",
       "      <td>0.0</td>\n",
       "      <td>0.0</td>\n",
       "      <td>1.0</td>\n",
       "      <td>0.0</td>\n",
       "      <td>0.0</td>\n",
       "      <td>0.0</td>\n",
       "      <td>0.0</td>\n",
       "      <td>6.0</td>\n",
       "    </tr>\n",
       "    <tr>\n",
       "      <th>4</th>\n",
       "      <td>533.0</td>\n",
       "      <td>1147.0</td>\n",
       "      <td>132.0</td>\n",
       "      <td>132.0</td>\n",
       "      <td>4.0</td>\n",
       "      <td>0.0</td>\n",
       "      <td>5.0</td>\n",
       "      <td>16.0</td>\n",
       "      <td>2.4</td>\n",
       "      <td>0.0</td>\n",
       "      <td>...</td>\n",
       "      <td>1.0</td>\n",
       "      <td>0.0</td>\n",
       "      <td>0.0</td>\n",
       "      <td>0.0</td>\n",
       "      <td>0.0</td>\n",
       "      <td>0.0</td>\n",
       "      <td>0.0</td>\n",
       "      <td>0.0</td>\n",
       "      <td>0.0</td>\n",
       "      <td>2.0</td>\n",
       "    </tr>\n",
       "  </tbody>\n",
       "</table>\n",
       "<p>5 rows × 36 columns</p>\n",
       "</div>"
      ],
      "text/plain": [
       "       b       e    LBE     LB   AC   FM   UC  ASTV  MSTV  ALTV  ...    B  \\\n",
       "0  240.0   357.0  120.0  120.0  0.0  0.0  0.0  73.0   0.5  43.0  ...  0.0   \n",
       "1    5.0   632.0  132.0  132.0  4.0  0.0  4.0  17.0   2.1   0.0  ...  0.0   \n",
       "2  177.0   779.0  133.0  133.0  2.0  0.0  5.0  16.0   2.1   0.0  ...  0.0   \n",
       "3  411.0  1192.0  134.0  134.0  2.0  0.0  6.0  16.0   2.4   0.0  ...  0.0   \n",
       "4  533.0  1147.0  132.0  132.0  4.0  0.0  5.0  16.0   2.4   0.0  ...  1.0   \n",
       "\n",
       "     C    D    E   AD   DE   LD   FS  SUSP  CLASS  \n",
       "0  0.0  0.0  0.0  0.0  0.0  0.0  1.0   0.0    9.0  \n",
       "1  0.0  0.0  0.0  1.0  0.0  0.0  0.0   0.0    6.0  \n",
       "2  0.0  0.0  0.0  1.0  0.0  0.0  0.0   0.0    6.0  \n",
       "3  0.0  0.0  0.0  1.0  0.0  0.0  0.0   0.0    6.0  \n",
       "4  0.0  0.0  0.0  0.0  0.0  0.0  0.0   0.0    2.0  \n",
       "\n",
       "[5 rows x 36 columns]"
      ]
     },
     "execution_count": 15,
     "metadata": {},
     "output_type": "execute_result"
    }
   ],
   "source": [
    "# DF of X\n",
    "\n",
    "X.head()"
   ]
  },
  {
   "cell_type": "code",
   "execution_count": 16,
   "id": "9ac00496",
   "metadata": {},
   "outputs": [
    {
     "data": {
      "text/plain": [
       "0    2.0\n",
       "1    1.0\n",
       "2    1.0\n",
       "3    1.0\n",
       "4    1.0\n",
       "Name: NSP, dtype: float64"
      ]
     },
     "execution_count": 16,
     "metadata": {},
     "output_type": "execute_result"
    }
   ],
   "source": [
    "y.head()"
   ]
  },
  {
   "cell_type": "code",
   "execution_count": 17,
   "id": "a789974a",
   "metadata": {},
   "outputs": [
    {
     "data": {
      "text/plain": [
       "1.0    1655\n",
       "2.0     295\n",
       "3.0     176\n",
       "Name: NSP, dtype: int64"
      ]
     },
     "execution_count": 17,
     "metadata": {},
     "output_type": "execute_result"
    }
   ],
   "source": [
    "# Checking the dataset is balanced or not\n",
    "\n",
    "df['NSP'].value_counts()"
   ]
  },
  {
   "cell_type": "code",
   "execution_count": 18,
   "id": "279c0f25",
   "metadata": {},
   "outputs": [],
   "source": [
    "# Since data is imbalanced\n",
    "# Trying over sampling\n",
    "\n",
    "X1=X.copy()\n",
    "y1=y.copy()\n",
    "\n",
    "from imblearn.over_sampling import RandomOverSampler\n",
    "\n",
    "rs=RandomOverSampler()\n",
    "X,y=rs.fit_resample(X,y)"
   ]
  },
  {
   "cell_type": "code",
   "execution_count": 19,
   "id": "5d6c8868",
   "metadata": {},
   "outputs": [
    {
     "name": "stdout",
     "output_type": "stream",
     "text": [
      "Shape of X and y before Sampling:\n",
      "X:  (2126, 36)\n",
      "Y:  (2126,)\n",
      " \n",
      "Shape of X and y before Sampling:\n",
      "X:  (4965, 36)\n",
      "Y:  (4965,)\n"
     ]
    }
   ],
   "source": [
    "# Shape after over sampling\n",
    "\n",
    "print('Shape of X and y before Sampling:')\n",
    "print('X: ',X1.shape)\n",
    "print('Y: ',y1.shape)\n",
    "\n",
    "print(\" \")\n",
    "\n",
    "print('Shape of X and y before Sampling:')\n",
    "print('X: ',X.shape)\n",
    "print('Y: ',y.shape)"
   ]
  },
  {
   "cell_type": "code",
   "execution_count": 20,
   "id": "d4378ef2",
   "metadata": {},
   "outputs": [],
   "source": [
    "# Since the no of columns is more\n",
    "# we need to reduce it\n",
    "# for this we are doing feature selection\n",
    "# This feature selection methods tell which column is better"
   ]
  },
  {
   "cell_type": "code",
   "execution_count": 21,
   "id": "93f59891",
   "metadata": {},
   "outputs": [],
   "source": [
    "# Feature selection"
   ]
  },
  {
   "cell_type": "code",
   "execution_count": 22,
   "id": "d6a20eb8",
   "metadata": {},
   "outputs": [
    {
     "data": {
      "text/html": [
       "<style>#sk-container-id-1 {color: black;background-color: white;}#sk-container-id-1 pre{padding: 0;}#sk-container-id-1 div.sk-toggleable {background-color: white;}#sk-container-id-1 label.sk-toggleable__label {cursor: pointer;display: block;width: 100%;margin-bottom: 0;padding: 0.3em;box-sizing: border-box;text-align: center;}#sk-container-id-1 label.sk-toggleable__label-arrow:before {content: \"▸\";float: left;margin-right: 0.25em;color: #696969;}#sk-container-id-1 label.sk-toggleable__label-arrow:hover:before {color: black;}#sk-container-id-1 div.sk-estimator:hover label.sk-toggleable__label-arrow:before {color: black;}#sk-container-id-1 div.sk-toggleable__content {max-height: 0;max-width: 0;overflow: hidden;text-align: left;background-color: #f0f8ff;}#sk-container-id-1 div.sk-toggleable__content pre {margin: 0.2em;color: black;border-radius: 0.25em;background-color: #f0f8ff;}#sk-container-id-1 input.sk-toggleable__control:checked~div.sk-toggleable__content {max-height: 200px;max-width: 100%;overflow: auto;}#sk-container-id-1 input.sk-toggleable__control:checked~label.sk-toggleable__label-arrow:before {content: \"▾\";}#sk-container-id-1 div.sk-estimator input.sk-toggleable__control:checked~label.sk-toggleable__label {background-color: #d4ebff;}#sk-container-id-1 div.sk-label input.sk-toggleable__control:checked~label.sk-toggleable__label {background-color: #d4ebff;}#sk-container-id-1 input.sk-hidden--visually {border: 0;clip: rect(1px 1px 1px 1px);clip: rect(1px, 1px, 1px, 1px);height: 1px;margin: -1px;overflow: hidden;padding: 0;position: absolute;width: 1px;}#sk-container-id-1 div.sk-estimator {font-family: monospace;background-color: #f0f8ff;border: 1px dotted black;border-radius: 0.25em;box-sizing: border-box;margin-bottom: 0.5em;}#sk-container-id-1 div.sk-estimator:hover {background-color: #d4ebff;}#sk-container-id-1 div.sk-parallel-item::after {content: \"\";width: 100%;border-bottom: 1px solid gray;flex-grow: 1;}#sk-container-id-1 div.sk-label:hover label.sk-toggleable__label {background-color: #d4ebff;}#sk-container-id-1 div.sk-serial::before {content: \"\";position: absolute;border-left: 1px solid gray;box-sizing: border-box;top: 0;bottom: 0;left: 50%;z-index: 0;}#sk-container-id-1 div.sk-serial {display: flex;flex-direction: column;align-items: center;background-color: white;padding-right: 0.2em;padding-left: 0.2em;position: relative;}#sk-container-id-1 div.sk-item {position: relative;z-index: 1;}#sk-container-id-1 div.sk-parallel {display: flex;align-items: stretch;justify-content: center;background-color: white;position: relative;}#sk-container-id-1 div.sk-item::before, #sk-container-id-1 div.sk-parallel-item::before {content: \"\";position: absolute;border-left: 1px solid gray;box-sizing: border-box;top: 0;bottom: 0;left: 50%;z-index: -1;}#sk-container-id-1 div.sk-parallel-item {display: flex;flex-direction: column;z-index: 1;position: relative;background-color: white;}#sk-container-id-1 div.sk-parallel-item:first-child::after {align-self: flex-end;width: 50%;}#sk-container-id-1 div.sk-parallel-item:last-child::after {align-self: flex-start;width: 50%;}#sk-container-id-1 div.sk-parallel-item:only-child::after {width: 0;}#sk-container-id-1 div.sk-dashed-wrapped {border: 1px dashed gray;margin: 0 0.4em 0.5em 0.4em;box-sizing: border-box;padding-bottom: 0.4em;background-color: white;}#sk-container-id-1 div.sk-label label {font-family: monospace;font-weight: bold;display: inline-block;line-height: 1.2em;}#sk-container-id-1 div.sk-label-container {text-align: center;}#sk-container-id-1 div.sk-container {/* jupyter's `normalize.less` sets `[hidden] { display: none; }` but bootstrap.min.css set `[hidden] { display: none !important; }` so we also need the `!important` here to be able to override the default hidden behavior on the sphinx rendered scikit-learn.org. See: https://github.com/scikit-learn/scikit-learn/issues/21755 */display: inline-block !important;position: relative;}#sk-container-id-1 div.sk-text-repr-fallback {display: none;}</style><div id=\"sk-container-id-1\" class=\"sk-top-container\"><div class=\"sk-text-repr-fallback\"><pre>ExtraTreesClassifier()</pre><b>In a Jupyter environment, please rerun this cell to show the HTML representation or trust the notebook. <br />On GitHub, the HTML representation is unable to render, please try loading this page with nbviewer.org.</b></div><div class=\"sk-container\" hidden><div class=\"sk-item\"><div class=\"sk-estimator sk-toggleable\"><input class=\"sk-toggleable__control sk-hidden--visually\" id=\"sk-estimator-id-1\" type=\"checkbox\" checked><label for=\"sk-estimator-id-1\" class=\"sk-toggleable__label sk-toggleable__label-arrow\">ExtraTreesClassifier</label><div class=\"sk-toggleable__content\"><pre>ExtraTreesClassifier()</pre></div></div></div></div></div>"
      ],
      "text/plain": [
       "ExtraTreesClassifier()"
      ]
     },
     "execution_count": 22,
     "metadata": {},
     "output_type": "execute_result"
    }
   ],
   "source": [
    "# 1. Using Feature Importance technique\n",
    "\n",
    "from sklearn.ensemble import ExtraTreesClassifier\n",
    "tree=ExtraTreesClassifier()\n",
    "tree.fit(X,y)"
   ]
  },
  {
   "cell_type": "code",
   "execution_count": 23,
   "id": "04018161",
   "metadata": {},
   "outputs": [
    {
     "name": "stdout",
     "output_type": "stream",
     "text": [
      "[0.0055258  0.006229   0.01009344 0.02029659 0.01685345 0.00375997\n",
      " 0.00690095 0.03087366 0.00875295 0.0301621  0.00684303 0.01037427\n",
      " 0.00053952 0.0344809  0.         0.0119562  0.01121275 0.00652621\n",
      " 0.00664568 0.00243989 0.01517901 0.02624177 0.02523163 0.01352183\n",
      " 0.00455834 0.02210087 0.04564971 0.00112391 0.00268747 0.07004222\n",
      " 0.02244329 0.0159264  0.11889795 0.10688834 0.12779366 0.15124725]\n"
     ]
    }
   ],
   "source": [
    "print(tree.feature_importances_)"
   ]
  },
  {
   "cell_type": "code",
   "execution_count": 24,
   "id": "63cba1fc",
   "metadata": {},
   "outputs": [
    {
     "data": {
      "text/plain": [
       "b           0.005526\n",
       "e           0.006229\n",
       "LBE         0.010093\n",
       "LB          0.020297\n",
       "AC          0.016853\n",
       "FM          0.003760\n",
       "UC          0.006901\n",
       "ASTV        0.030874\n",
       "MSTV        0.008753\n",
       "ALTV        0.030162\n",
       "MLTV        0.006843\n",
       "DL          0.010374\n",
       "DS          0.000540\n",
       "DP          0.034481\n",
       "DR          0.000000\n",
       "Width       0.011956\n",
       "Min         0.011213\n",
       "Max         0.006526\n",
       "Nmax        0.006646\n",
       "Nzeros      0.002440\n",
       "Mode        0.015179\n",
       "Mean        0.026242\n",
       "Median      0.025232\n",
       "Variance    0.013522\n",
       "Tendency    0.004558\n",
       "A           0.022101\n",
       "B           0.045650\n",
       "C           0.001124\n",
       "D           0.002687\n",
       "E           0.070042\n",
       "AD          0.022443\n",
       "DE          0.015926\n",
       "LD          0.118898\n",
       "FS          0.106888\n",
       "SUSP        0.127794\n",
       "CLASS       0.151247\n",
       "dtype: float64"
      ]
     },
     "execution_count": 24,
     "metadata": {},
     "output_type": "execute_result"
    }
   ],
   "source": [
    "data=pd.Series(tree.feature_importances_)\n",
    "\n",
    "data.index=X.columns\n",
    "\n",
    "data"
   ]
  },
  {
   "cell_type": "code",
   "execution_count": 25,
   "id": "dd6c9a0f",
   "metadata": {},
   "outputs": [
    {
     "data": {
      "text/plain": [
       "<function matplotlib.pyplot.show(close=None, block=None)>"
      ]
     },
     "execution_count": 25,
     "metadata": {},
     "output_type": "execute_result"
    },
    {
     "data": {
      "image/png": "[encoded data removed]",
      "text/plain": [
       "<Figure size 432x288 with 1 Axes>"
      ]
     },
     "metadata": {
      "needs_background": "light"
     },
     "output_type": "display_data"
    }
   ],
   "source": [
    "data.nlargest(10).plot(kind='barh')\n",
    "plt.show"
   ]
  },
  {
   "cell_type": "code",
   "execution_count": 26,
   "id": "60f67453",
   "metadata": {},
   "outputs": [
    {
     "data": {
      "text/plain": [
       "Index(['CLASS', 'SUSP', 'LD', 'FS', 'E', 'B', 'DP', 'ASTV', 'ALTV', 'Mean'], dtype='object')"
      ]
     },
     "execution_count": 26,
     "metadata": {},
     "output_type": "execute_result"
    }
   ],
   "source": [
    "data.nlargest(10).index"
   ]
  },
  {
   "cell_type": "code",
   "execution_count": 27,
   "id": "e1715156",
   "metadata": {},
   "outputs": [],
   "source": [
    "# Selecting only these columns\n",
    "\n",
    "X1=X.copy()\n",
    "y1=y.copy()\n",
    "\n",
    "X=X[data.nlargest(10).index]"
   ]
  },
  {
   "cell_type": "code",
   "execution_count": 28,
   "id": "c6eb7b49",
   "metadata": {},
   "outputs": [
    {
     "name": "stdout",
     "output_type": "stream",
     "text": [
      "Shape of X and y before Sampling:\n",
      "X:  (4965, 36)\n",
      "Y:  (4965,)\n",
      " \n",
      "Shape of X and y before Sampling:\n",
      "X:  (4965, 10)\n",
      "Y:  (4965,)\n"
     ]
    }
   ],
   "source": [
    "# Shape after feature selection\n",
    "\n",
    "print('Shape of X and y before Sampling:')\n",
    "print('X: ',X1.shape)\n",
    "print('Y: ',y1.shape)\n",
    "\n",
    "print(\" \")\n",
    "\n",
    "print('Shape of X and y before Sampling:')\n",
    "print('X: ',X.shape)\n",
    "print('Y: ',y.shape)"
   ]
  },
  {
   "cell_type": "code",
   "execution_count": 29,
   "id": "4dc8d1bf",
   "metadata": {},
   "outputs": [
    {
     "data": {
      "text/plain": [
       "((3475, 10), (1490, 10), (3475,), (1490,))"
      ]
     },
     "execution_count": 29,
     "metadata": {},
     "output_type": "execute_result"
    }
   ],
   "source": [
    "### Train test split\n",
    "\n",
    "from sklearn.model_selection import train_test_split\n",
    "\n",
    "X_train,X_test,y_train,y_test=train_test_split(X,y,test_size=0.3, random_state=42)\n",
    "\n",
    "X_train.shape, X_test.shape, y_train.shape, y_test.shape"
   ]
  },
  {
   "cell_type": "code",
   "execution_count": 30,
   "id": "deaa6004",
   "metadata": {},
   "outputs": [
    {
     "data": {
      "text/html": [
       "<style>#sk-container-id-2 {color: black;background-color: white;}#sk-container-id-2 pre{padding: 0;}#sk-container-id-2 div.sk-toggleable {background-color: white;}#sk-container-id-2 label.sk-toggleable__label {cursor: pointer;display: block;width: 100%;margin-bottom: 0;padding: 0.3em;box-sizing: border-box;text-align: center;}#sk-container-id-2 label.sk-toggleable__label-arrow:before {content: \"▸\";float: left;margin-right: 0.25em;color: #696969;}#sk-container-id-2 label.sk-toggleable__label-arrow:hover:before {color: black;}#sk-container-id-2 div.sk-estimator:hover label.sk-toggleable__label-arrow:before {color: black;}#sk-container-id-2 div.sk-toggleable__content {max-height: 0;max-width: 0;overflow: hidden;text-align: left;background-color: #f0f8ff;}#sk-container-id-2 div.sk-toggleable__content pre {margin: 0.2em;color: black;border-radius: 0.25em;background-color: #f0f8ff;}#sk-container-id-2 input.sk-toggleable__control:checked~div.sk-toggleable__content {max-height: 200px;max-width: 100%;overflow: auto;}#sk-container-id-2 input.sk-toggleable__control:checked~label.sk-toggleable__label-arrow:before {content: \"▾\";}#sk-container-id-2 div.sk-estimator input.sk-toggleable__control:checked~label.sk-toggleable__label {background-color: #d4ebff;}#sk-container-id-2 div.sk-label input.sk-toggleable__control:checked~label.sk-toggleable__label {background-color: #d4ebff;}#sk-container-id-2 input.sk-hidden--visually {border: 0;clip: rect(1px 1px 1px 1px);clip: rect(1px, 1px, 1px, 1px);height: 1px;margin: -1px;overflow: hidden;padding: 0;position: absolute;width: 1px;}#sk-container-id-2 div.sk-estimator {font-family: monospace;background-color: #f0f8ff;border: 1px dotted black;border-radius: 0.25em;box-sizing: border-box;margin-bottom: 0.5em;}#sk-container-id-2 div.sk-estimator:hover {background-color: #d4ebff;}#sk-container-id-2 div.sk-parallel-item::after {content: \"\";width: 100%;border-bottom: 1px solid gray;flex-grow: 1;}#sk-container-id-2 div.sk-label:hover label.sk-toggleable__label {background-color: #d4ebff;}#sk-container-id-2 div.sk-serial::before {content: \"\";position: absolute;border-left: 1px solid gray;box-sizing: border-box;top: 0;bottom: 0;left: 50%;z-index: 0;}#sk-container-id-2 div.sk-serial {display: flex;flex-direction: column;align-items: center;background-color: white;padding-right: 0.2em;padding-left: 0.2em;position: relative;}#sk-container-id-2 div.sk-item {position: relative;z-index: 1;}#sk-container-id-2 div.sk-parallel {display: flex;align-items: stretch;justify-content: center;background-color: white;position: relative;}#sk-container-id-2 div.sk-item::before, #sk-container-id-2 div.sk-parallel-item::before {content: \"\";position: absolute;border-left: 1px solid gray;box-sizing: border-box;top: 0;bottom: 0;left: 50%;z-index: -1;}#sk-container-id-2 div.sk-parallel-item {display: flex;flex-direction: column;z-index: 1;position: relative;background-color: white;}#sk-container-id-2 div.sk-parallel-item:first-child::after {align-self: flex-end;width: 50%;}#sk-container-id-2 div.sk-parallel-item:last-child::after {align-self: flex-start;width: 50%;}#sk-container-id-2 div.sk-parallel-item:only-child::after {width: 0;}#sk-container-id-2 div.sk-dashed-wrapped {border: 1px dashed gray;margin: 0 0.4em 0.5em 0.4em;box-sizing: border-box;padding-bottom: 0.4em;background-color: white;}#sk-container-id-2 div.sk-label label {font-family: monospace;font-weight: bold;display: inline-block;line-height: 1.2em;}#sk-container-id-2 div.sk-label-container {text-align: center;}#sk-container-id-2 div.sk-container {/* jupyter's `normalize.less` sets `[hidden] { display: none; }` but bootstrap.min.css set `[hidden] { display: none !important; }` so we also need the `!important` here to be able to override the default hidden behavior on the sphinx rendered scikit-learn.org. See: https://github.com/scikit-learn/scikit-learn/issues/21755 */display: inline-block !important;position: relative;}#sk-container-id-2 div.sk-text-repr-fallback {display: none;}</style><div id=\"sk-container-id-2\" class=\"sk-top-container\"><div class=\"sk-text-repr-fallback\"><pre>KNeighborsClassifier()</pre><b>In a Jupyter environment, please rerun this cell to show the HTML representation or trust the notebook. <br />On GitHub, the HTML representation is unable to render, please try loading this page with nbviewer.org.</b></div><div class=\"sk-container\" hidden><div class=\"sk-item\"><div class=\"sk-estimator sk-toggleable\"><input class=\"sk-toggleable__control sk-hidden--visually\" id=\"sk-estimator-id-2\" type=\"checkbox\" checked><label for=\"sk-estimator-id-2\" class=\"sk-toggleable__label sk-toggleable__label-arrow\">KNeighborsClassifier</label><div class=\"sk-toggleable__content\"><pre>KNeighborsClassifier()</pre></div></div></div></div></div>"
      ],
      "text/plain": [
       "KNeighborsClassifier()"
      ]
     },
     "execution_count": 30,
     "metadata": {},
     "output_type": "execute_result"
    }
   ],
   "source": [
    "# Support vector machine\n",
    "\n",
    "from sklearn.neighbors import KNeighborsClassifier\n",
    "\n",
    "knn = KNeighborsClassifier()\n",
    "knn.fit(X,y)"
   ]
  },
  {
   "cell_type": "code",
   "execution_count": 31,
   "id": "86e9bae5",
   "metadata": {},
   "outputs": [],
   "source": [
    "# y_predict\n",
    "\n",
    "y_predict=knn.predict(X_test)"
   ]
  },
  {
   "cell_type": "code",
   "execution_count": 32,
   "id": "dcb3c00d",
   "metadata": {},
   "outputs": [
    {
     "name": "stdout",
     "output_type": "stream",
     "text": [
      "accuracy: 98.59060402684564\n",
      "\n",
      "\n",
      "classification report:\n",
      "               precision    recall  f1-score   support\n",
      "\n",
      "         1.0       1.00      0.96      0.98       520\n",
      "         2.0       0.96      1.00      0.98       485\n",
      "         3.0       1.00      1.00      1.00       485\n",
      "\n",
      "    accuracy                           0.99      1490\n",
      "   macro avg       0.99      0.99      0.99      1490\n",
      "weighted avg       0.99      0.99      0.99      1490\n",
      "\n",
      "\n",
      "\n",
      "confusion matrix:\n",
      " [[499  19   2]\n",
      " [  0 485   0]\n",
      " [  0   0 485]]\n"
     ]
    }
   ],
   "source": [
    "# metrics\n",
    "\n",
    "from sklearn.metrics import accuracy_score, classification_report, confusion_matrix, precision_score, recall_score\n",
    "\n",
    "accuracy=accuracy_score(y_test,y_predict)\n",
    "cr=classification_report(y_test,y_predict)\n",
    "cm=confusion_matrix(y_test,y_predict)\n",
    "\n",
    "print('accuracy: {}\\n\\n\\nclassification report:\\n {}\\n\\n\\nconfusion matrix:\\n {}'.format(accuracy*100,cr,cm))"
   ]
  },
  {
   "cell_type": "code",
   "execution_count": 33,
   "id": "230211ae",
   "metadata": {},
   "outputs": [
    {
     "name": "stdout",
     "output_type": "stream",
     "text": [
      "Confusion matrix:\n",
      "[[499  19   2]\n",
      " [  0 485   0]\n",
      " [  0   0 485]]\n"
     ]
    },
    {
     "data": {
      "image/png": "[encoded data removed]",
      "text/plain": [
       "<Figure size 432x288 with 2 Axes>"
      ]
     },
     "metadata": {
      "needs_background": "light"
     },
     "output_type": "display_data"
    }
   ],
   "source": [
    "def plot_confusion_matrix(cm, title='Confusion matrix', cmap=plt.cm.cool):\n",
    "    plt.imshow(cm, interpolation='nearest', cmap=cmap)\n",
    "    plt.title(title)\n",
    "    plt.colorbar()\n",
    "\n",
    "cm1=confusion_matrix(y_test, y_predict)\n",
    "print('Confusion matrix:')\n",
    "print(cm)\n",
    "plot_confusion_matrix(cm)"
   ]
  },
  {
   "cell_type": "code",
   "execution_count": null,
   "id": "76f2ff5a",
   "metadata": {},
   "outputs": [],
   "source": []
  },
  {
   "cell_type": "code",
   "execution_count": null,
   "id": "1f691892",
   "metadata": {},
   "outputs": [],
   "source": []
  },
  {
   "cell_type": "code",
   "execution_count": null,
   "id": "95f1a9fc",
   "metadata": {},
   "outputs": [],
   "source": []
  },
  {
   "cell_type": "code",
   "execution_count": null,
   "id": "a7f7c260",
   "metadata": {},
   "outputs": [],
   "source": []
  }
 ],
 "metadata": {
  "kernelspec": {
   "display_name": "Python 3 (ipykernel)",
   "language": "python",
   "name": "python3"
  },
  "language_info": {
   "codemirror_mode": {
    "name": "ipython",
    "version": 3
   },
   "file_extension": ".py",
   "mimetype": "text/x-python",
   "name": "python",
   "nbconvert_exporter": "python",
   "pygments_lexer": "ipython3",
   "version": "3.9.12"
  }
 },
 "nbformat": 4,
 "nbformat_minor": 5
}
